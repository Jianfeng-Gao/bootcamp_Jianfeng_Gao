{
 "cells": [
  {
   "cell_type": "code",
   "execution_count": 1,
   "id": "8a44caa7-7f28-4e36-8ad8-ff651d0ba729",
   "metadata": {},
   "outputs": [],
   "source": [
    "import os, json, time,datetime as dt,csv,pathlib"
   ]
  },
  {
   "cell_type": "code",
   "execution_count": 2,
   "id": "dc8957b0-4e6d-4856-88be-3968bc6aae12",
   "metadata": {},
   "outputs": [],
   "source": [
    "from typing import Dict,List"
   ]
  },
  {
   "cell_type": "code",
   "execution_count": null,
   "id": "1447bd5b-f336-460b-9ba7-eca909eb49c4",
   "metadata": {},
   "outputs": [],
   "source": [
    "import requests\n",
    "import pandas as pd\n"
   ]
  }
 ],
 "metadata": {
  "kernelspec": {
   "display_name": "Python 3 (ipykernel)",
   "language": "python",
   "name": "python3"
  },
  "language_info": {
   "codemirror_mode": {
    "name": "ipython",
    "version": 3
   },
   "file_extension": ".py",
   "mimetype": "text/x-python",
   "name": "python",
   "nbconvert_exporter": "python",
   "pygments_lexer": "ipython3",
   "version": "3.11.13"
  }
 },
 "nbformat": 4,
 "nbformat_minor": 5
}
