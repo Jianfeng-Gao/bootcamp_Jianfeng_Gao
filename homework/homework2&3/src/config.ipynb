{
 "cells": [
  {
   "cell_type": "code",
   "execution_count": 1,
   "id": "709d6f46-0180-4952-9b1a-23427b49edeb",
   "metadata": {},
   "outputs": [],
   "source": [
    "from dotenv import load_dotenv\n",
    "import os\n",
    "\n",
    "def load_env():\n",
    "    load_dotenv()\n",
    "\n",
    "def get_key(key_name):\n",
    "    return os.getenv(key_name)"
   ]
  },
  {
   "cell_type": "code",
   "execution_count": null,
   "id": "e38dbf22-915d-48ea-9c7a-ea5ab83972f6",
   "metadata": {},
   "outputs": [],
   "source": []
  }
 ],
 "metadata": {
  "kernelspec": {
   "display_name": "Python 3 (ipykernel)",
   "language": "python",
   "name": "python3"
  },
  "language_info": {
   "codemirror_mode": {
    "name": "ipython",
    "version": 3
   },
   "file_extension": ".py",
   "mimetype": "text/x-python",
   "name": "python",
   "nbconvert_exporter": "python",
   "pygments_lexer": "ipython3",
   "version": "3.11.13"
  }
 },
 "nbformat": 4,
 "nbformat_minor": 5
}
